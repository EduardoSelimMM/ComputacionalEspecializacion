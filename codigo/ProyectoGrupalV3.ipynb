{
 "cells": [
  {
   "cell_type": "markdown",
   "id": "determined-class",
   "metadata": {},
   "source": [
    "# Finanzas Computacionales\n",
    "## Proyecto grupal\n",
    "### Profesor: Dr. Luis Vicente Montiel Cendejas\n",
    "### Estudiante: Marina, Aldair y Eduardo\n",
    "### Fecha de entrega: 23 de Mayo de 2022"
   ]
  },
  {
   "cell_type": "markdown",
   "id": "aerial-window",
   "metadata": {},
   "source": [
    "# Resumen"
   ]
  },
  {
   "cell_type": "markdown",
   "id": "supreme-comment",
   "metadata": {},
   "source": [
    "Uno de los objetivos de este proyecto es ..."
   ]
  },
  {
   "cell_type": "code",
   "execution_count": 1,
   "id": "reverse-advantage",
   "metadata": {},
   "outputs": [],
   "source": [
    "import numpy as np\n",
    "import pandas as pd # librería para manejo de dataframes\n",
    "import matplotlib.pyplot as plt\n",
    "import seaborn as sns\n",
    "import yfinance as yf # librería para descarga de históricos de Yahoo Finance\n",
    "import math\n",
    "\n",
    "from sklearn.model_selection import train_test_split\n",
    "\n",
    "\n",
    "from sklearn.linear_model import LogisticRegression\n",
    "from sklearn import svm\n",
    "from sklearn.tree import DecisionTreeClassifier\n",
    "from sklearn.ensemble import RandomForestClassifier\n",
    "from sklearn.neighbors import KNeighborsClassifier\n",
    "from sklearn.ensemble import AdaBoostClassifier\n",
    "\n",
    "\n",
    "from sklearn.preprocessing import PolynomialFeatures\n",
    "from sklearn.linear_model import LinearRegression\n",
    "\n",
    "from sklearn import metrics"
   ]
  },
  {
   "cell_type": "code",
   "execution_count": 2,
   "id": "actual-singapore",
   "metadata": {},
   "outputs": [],
   "source": [
    "ticker = 'AAPL'\n",
    "fecha_inicio = '2021-01-01'\n",
    "fecha_fin = '2022-04-30'"
   ]
  },
  {
   "cell_type": "code",
   "execution_count": 3,
   "id": "becoming-accuracy",
   "metadata": {},
   "outputs": [],
   "source": [
    "def funcion_etiqueta(x):\n",
    "    if x<=0:\n",
    "        y = -1\n",
    "    else:\n",
    "        y = 1\n",
    "    return(y)\n",
    "\n",
    "def funcion_encoding(x):\n",
    "    if x == -1:\n",
    "        y = 0\n",
    "    else:\n",
    "        y = 1\n",
    "    return(y)"
   ]
  },
  {
   "cell_type": "code",
   "execution_count": 4,
   "id": "popular-relative",
   "metadata": {},
   "outputs": [],
   "source": [
    "###"
   ]
  },
  {
   "cell_type": "code",
   "execution_count": 5,
   "id": "distant-federation",
   "metadata": {},
   "outputs": [],
   "source": [
    "def descarga_historico_full(ticker, fecha_inicio, fecha_fin):\n",
    "    df_hist = yf.download(ticker, start = fecha_inicio, end = fecha_fin, progress =  False)\n",
    "    df_hist = df_hist.iloc[1:][['High','Low','Close']]\n",
    "    return(df_hist)"
   ]
  },
  {
   "cell_type": "code",
   "execution_count": 6,
   "id": "imperial-recruitment",
   "metadata": {},
   "outputs": [],
   "source": [
    "df_hist = descarga_historico_full(ticker, fecha_inicio, fecha_fin)"
   ]
  },
  {
   "cell_type": "code",
   "execution_count": 7,
   "id": "immediate-mineral",
   "metadata": {},
   "outputs": [],
   "source": [
    "def genera_indicadores(df_hist):\n",
    "    df = df_hist.iloc[1:][['High','Low','Close']]\n",
    "    df['Prom_Movil'] = df['Close'].rolling(10).mean()\n",
    "    ponder = np.arange(1,11)\n",
    "    df['uma10'] = df['Close'].rolling(10).apply(lambda precios: np.dot(precios, ponder)/ponder.sum(), raw=True)\n",
    "    df['Momentum'] = df['Close'] - df['Close'].shift(9)\n",
    "    df['AD_oscilator'] = (df['High'] - df['Close'])/(df['High'] - df['Close'].shift(1))\n",
    "    df['HighestHigh'] = df['High'].rolling(14).max()\n",
    "    df['LowestLow'] = df['Low'].rolling(14).min()\n",
    "    df['LarryWilliams'] = (df['HighestHigh']  - df['Close'])/(df['HighestHigh']  - df['LowestLow'])\n",
    "    df['StochasticK'] = (df['Close'] - df['LowestLow'])/(df['HighestHigh']  - df['LowestLow'])\n",
    "    df = df[['Prom_Movil','uma10','Momentum','AD_oscilator','LarryWilliams','StochasticK']]\n",
    "    return(df)"
   ]
  },
  {
   "cell_type": "code",
   "execution_count": 8,
   "id": "parallel-council",
   "metadata": {},
   "outputs": [
    {
     "data": {
      "text/html": [
       "<div>\n",
       "<style scoped>\n",
       "    .dataframe tbody tr th:only-of-type {\n",
       "        vertical-align: middle;\n",
       "    }\n",
       "\n",
       "    .dataframe tbody tr th {\n",
       "        vertical-align: top;\n",
       "    }\n",
       "\n",
       "    .dataframe thead th {\n",
       "        text-align: right;\n",
       "    }\n",
       "</style>\n",
       "<table border=\"1\" class=\"dataframe\">\n",
       "  <thead>\n",
       "    <tr style=\"text-align: right;\">\n",
       "      <th></th>\n",
       "      <th>Prom_Movil</th>\n",
       "      <th>uma10</th>\n",
       "      <th>Momentum</th>\n",
       "      <th>AD_oscilator</th>\n",
       "      <th>LarryWilliams</th>\n",
       "      <th>StochasticK</th>\n",
       "    </tr>\n",
       "    <tr>\n",
       "      <th>Date</th>\n",
       "      <th></th>\n",
       "      <th></th>\n",
       "      <th></th>\n",
       "      <th></th>\n",
       "      <th></th>\n",
       "      <th></th>\n",
       "    </tr>\n",
       "  </thead>\n",
       "  <tbody>\n",
       "    <tr>\n",
       "      <th>2021-01-06</th>\n",
       "      <td>NaN</td>\n",
       "      <td>NaN</td>\n",
       "      <td>NaN</td>\n",
       "      <td>NaN</td>\n",
       "      <td>NaN</td>\n",
       "      <td>NaN</td>\n",
       "    </tr>\n",
       "    <tr>\n",
       "      <th>2021-01-07</th>\n",
       "      <td>NaN</td>\n",
       "      <td>NaN</td>\n",
       "      <td>NaN</td>\n",
       "      <td>0.141154</td>\n",
       "      <td>NaN</td>\n",
       "      <td>NaN</td>\n",
       "    </tr>\n",
       "    <tr>\n",
       "      <th>2021-01-08</th>\n",
       "      <td>NaN</td>\n",
       "      <td>NaN</td>\n",
       "      <td>NaN</td>\n",
       "      <td>0.339181</td>\n",
       "      <td>NaN</td>\n",
       "      <td>NaN</td>\n",
       "    </tr>\n",
       "    <tr>\n",
       "      <th>2021-01-11</th>\n",
       "      <td>NaN</td>\n",
       "      <td>NaN</td>\n",
       "      <td>NaN</td>\n",
       "      <td>-0.632978</td>\n",
       "      <td>NaN</td>\n",
       "      <td>NaN</td>\n",
       "    </tr>\n",
       "    <tr>\n",
       "      <th>2021-01-12</th>\n",
       "      <td>NaN</td>\n",
       "      <td>NaN</td>\n",
       "      <td>NaN</td>\n",
       "      <td>1.253508</td>\n",
       "      <td>NaN</td>\n",
       "      <td>NaN</td>\n",
       "    </tr>\n",
       "    <tr>\n",
       "      <th>...</th>\n",
       "      <td>...</td>\n",
       "      <td>...</td>\n",
       "      <td>...</td>\n",
       "      <td>...</td>\n",
       "      <td>...</td>\n",
       "      <td>...</td>\n",
       "    </tr>\n",
       "    <tr>\n",
       "      <th>2022-04-25</th>\n",
       "      <td>165.988998</td>\n",
       "      <td>165.273816</td>\n",
       "      <td>-2.869995</td>\n",
       "      <td>0.210139</td>\n",
       "      <td>0.777218</td>\n",
       "      <td>0.222782</td>\n",
       "    </tr>\n",
       "    <tr>\n",
       "      <th>2022-04-26</th>\n",
       "      <td>165.093999</td>\n",
       "      <td>163.603090</td>\n",
       "      <td>-10.860001</td>\n",
       "      <td>-10.259084</td>\n",
       "      <td>0.995269</td>\n",
       "      <td>0.004731</td>\n",
       "    </tr>\n",
       "    <tr>\n",
       "      <th>2022-04-27</th>\n",
       "      <td>163.984999</td>\n",
       "      <td>162.053273</td>\n",
       "      <td>-13.829987</td>\n",
       "      <td>1.076922</td>\n",
       "      <td>0.933815</td>\n",
       "      <td>0.066185</td>\n",
       "    </tr>\n",
       "    <tr>\n",
       "      <th>2022-04-28</th>\n",
       "      <td>163.309000</td>\n",
       "      <td>161.990546</td>\n",
       "      <td>-1.649994</td>\n",
       "      <td>0.110692</td>\n",
       "      <td>0.496342</td>\n",
       "      <td>0.503658</td>\n",
       "    </tr>\n",
       "    <tr>\n",
       "      <th>2022-04-29</th>\n",
       "      <td>162.545000</td>\n",
       "      <td>160.961636</td>\n",
       "      <td>-7.420013</td>\n",
       "      <td>3.339848</td>\n",
       "      <td>0.859443</td>\n",
       "      <td>0.140557</td>\n",
       "    </tr>\n",
       "  </tbody>\n",
       "</table>\n",
       "<p>332 rows × 6 columns</p>\n",
       "</div>"
      ],
      "text/plain": [
       "            Prom_Movil       uma10   Momentum  AD_oscilator  LarryWilliams  \\\n",
       "Date                                                                         \n",
       "2021-01-06         NaN         NaN        NaN           NaN            NaN   \n",
       "2021-01-07         NaN         NaN        NaN      0.141154            NaN   \n",
       "2021-01-08         NaN         NaN        NaN      0.339181            NaN   \n",
       "2021-01-11         NaN         NaN        NaN     -0.632978            NaN   \n",
       "2021-01-12         NaN         NaN        NaN      1.253508            NaN   \n",
       "...                ...         ...        ...           ...            ...   \n",
       "2022-04-25  165.988998  165.273816  -2.869995      0.210139       0.777218   \n",
       "2022-04-26  165.093999  163.603090 -10.860001    -10.259084       0.995269   \n",
       "2022-04-27  163.984999  162.053273 -13.829987      1.076922       0.933815   \n",
       "2022-04-28  163.309000  161.990546  -1.649994      0.110692       0.496342   \n",
       "2022-04-29  162.545000  160.961636  -7.420013      3.339848       0.859443   \n",
       "\n",
       "            StochasticK  \n",
       "Date                     \n",
       "2021-01-06          NaN  \n",
       "2021-01-07          NaN  \n",
       "2021-01-08          NaN  \n",
       "2021-01-11          NaN  \n",
       "2021-01-12          NaN  \n",
       "...                 ...  \n",
       "2022-04-25     0.222782  \n",
       "2022-04-26     0.004731  \n",
       "2022-04-27     0.066185  \n",
       "2022-04-28     0.503658  \n",
       "2022-04-29     0.140557  \n",
       "\n",
       "[332 rows x 6 columns]"
      ]
     },
     "execution_count": 8,
     "metadata": {},
     "output_type": "execute_result"
    }
   ],
   "source": [
    "genera_indicadores(df_hist)"
   ]
  },
  {
   "cell_type": "code",
   "execution_count": 9,
   "id": "anticipated-tours",
   "metadata": {},
   "outputs": [],
   "source": [
    "#####"
   ]
  },
  {
   "cell_type": "code",
   "execution_count": 10,
   "id": "occasional-carnival",
   "metadata": {},
   "outputs": [],
   "source": [
    "def descarga_historico(ticker, fecha_inicio, fecha_fin):\n",
    "    df_hist = yf.download(ticker, start = fecha_inicio, end = fecha_fin, progress=False)\n",
    "    df = df_hist.iloc[1:]['Close']\n",
    "    df = df.to_frame()\n",
    "    return(df)"
   ]
  },
  {
   "cell_type": "code",
   "execution_count": 11,
   "id": "advance-cleaning",
   "metadata": {},
   "outputs": [],
   "source": [
    "def construye_etiquetas(ticker, fecha_inicio, fecha_fin):\n",
    "    df = descarga_historico(ticker, fecha_inicio, fecha_fin)\n",
    "    df_diferencia = df['Close'] - df.shift(1)['Close']\n",
    "    df_diferencia = df_diferencia.to_frame()\n",
    "    df_diferencia['etiqueta'] = df_diferencia['Close'].apply(funcion_etiqueta)\n",
    "    df_etiq = df_diferencia['etiqueta']\n",
    "    df_etiq = df_etiq.to_frame()\n",
    "    df_etiq['etiqueta_binaria'] = df_etiq['etiqueta'].apply(funcion_encoding)\n",
    "    return(df_etiq)"
   ]
  },
  {
   "cell_type": "code",
   "execution_count": 12,
   "id": "hidden-hydrogen",
   "metadata": {},
   "outputs": [
    {
     "data": {
      "text/html": [
       "<div>\n",
       "<style scoped>\n",
       "    .dataframe tbody tr th:only-of-type {\n",
       "        vertical-align: middle;\n",
       "    }\n",
       "\n",
       "    .dataframe tbody tr th {\n",
       "        vertical-align: top;\n",
       "    }\n",
       "\n",
       "    .dataframe thead th {\n",
       "        text-align: right;\n",
       "    }\n",
       "</style>\n",
       "<table border=\"1\" class=\"dataframe\">\n",
       "  <thead>\n",
       "    <tr style=\"text-align: right;\">\n",
       "      <th></th>\n",
       "      <th>etiqueta</th>\n",
       "      <th>etiqueta_binaria</th>\n",
       "    </tr>\n",
       "    <tr>\n",
       "      <th>Date</th>\n",
       "      <th></th>\n",
       "      <th></th>\n",
       "    </tr>\n",
       "  </thead>\n",
       "  <tbody>\n",
       "    <tr>\n",
       "      <th>2021-01-05</th>\n",
       "      <td>1</td>\n",
       "      <td>1</td>\n",
       "    </tr>\n",
       "    <tr>\n",
       "      <th>2021-01-06</th>\n",
       "      <td>-1</td>\n",
       "      <td>0</td>\n",
       "    </tr>\n",
       "    <tr>\n",
       "      <th>2021-01-07</th>\n",
       "      <td>1</td>\n",
       "      <td>1</td>\n",
       "    </tr>\n",
       "    <tr>\n",
       "      <th>2021-01-08</th>\n",
       "      <td>1</td>\n",
       "      <td>1</td>\n",
       "    </tr>\n",
       "    <tr>\n",
       "      <th>2021-01-11</th>\n",
       "      <td>-1</td>\n",
       "      <td>0</td>\n",
       "    </tr>\n",
       "    <tr>\n",
       "      <th>...</th>\n",
       "      <td>...</td>\n",
       "      <td>...</td>\n",
       "    </tr>\n",
       "    <tr>\n",
       "      <th>2022-04-25</th>\n",
       "      <td>1</td>\n",
       "      <td>1</td>\n",
       "    </tr>\n",
       "    <tr>\n",
       "      <th>2022-04-26</th>\n",
       "      <td>-1</td>\n",
       "      <td>0</td>\n",
       "    </tr>\n",
       "    <tr>\n",
       "      <th>2022-04-27</th>\n",
       "      <td>-1</td>\n",
       "      <td>0</td>\n",
       "    </tr>\n",
       "    <tr>\n",
       "      <th>2022-04-28</th>\n",
       "      <td>1</td>\n",
       "      <td>1</td>\n",
       "    </tr>\n",
       "    <tr>\n",
       "      <th>2022-04-29</th>\n",
       "      <td>-1</td>\n",
       "      <td>0</td>\n",
       "    </tr>\n",
       "  </tbody>\n",
       "</table>\n",
       "<p>333 rows × 2 columns</p>\n",
       "</div>"
      ],
      "text/plain": [
       "            etiqueta  etiqueta_binaria\n",
       "Date                                  \n",
       "2021-01-05         1                 1\n",
       "2021-01-06        -1                 0\n",
       "2021-01-07         1                 1\n",
       "2021-01-08         1                 1\n",
       "2021-01-11        -1                 0\n",
       "...              ...               ...\n",
       "2022-04-25         1                 1\n",
       "2022-04-26        -1                 0\n",
       "2022-04-27        -1                 0\n",
       "2022-04-28         1                 1\n",
       "2022-04-29        -1                 0\n",
       "\n",
       "[333 rows x 2 columns]"
      ]
     },
     "execution_count": 12,
     "metadata": {},
     "output_type": "execute_result"
    }
   ],
   "source": [
    "df = construye_etiquetas(ticker, fecha_inicio, fecha_fin)\n",
    "df"
   ]
  },
  {
   "cell_type": "code",
   "execution_count": 13,
   "id": "retired-clone",
   "metadata": {},
   "outputs": [
    {
     "data": {
      "text/plain": [
       " 1    170\n",
       "-1    163\n",
       "Name: etiqueta, dtype: int64"
      ]
     },
     "execution_count": 13,
     "metadata": {},
     "output_type": "execute_result"
    }
   ],
   "source": [
    "frecuencias = df['etiqueta'].value_counts()\n",
    "frecuencias"
   ]
  },
  {
   "cell_type": "code",
   "execution_count": 14,
   "id": "roman-virgin",
   "metadata": {},
   "outputs": [
    {
     "data": {
      "image/png": "[encoded data removed]",
      "text/plain": [
       "<Figure size 432x288 with 1 Axes>"
      ]
     },
     "metadata": {},
     "output_type": "display_data"
    }
   ],
   "source": [
    "frecuencias.plot(kind='pie');"
   ]
  },
  {
   "cell_type": "code",
   "execution_count": 15,
   "id": "aging-honey",
   "metadata": {},
   "outputs": [],
   "source": [
    "df_etiquetas = construye_etiquetas(ticker, fecha_inicio, fecha_fin)\n",
    "df_indicadores = genera_indicadores(df_hist)"
   ]
  },
  {
   "cell_type": "code",
   "execution_count": null,
   "id": "unlike-disclosure",
   "metadata": {},
   "outputs": [],
   "source": []
  },
  {
   "cell_type": "code",
   "execution_count": 16,
   "id": "devoted-peripheral",
   "metadata": {},
   "outputs": [],
   "source": [
    "df_ml = pd.merge(df_etiquetas, df_indicadores, left_index=True, right_index=True)\n",
    "df_ml = df_ml.dropna()"
   ]
  },
  {
   "cell_type": "code",
   "execution_count": 17,
   "id": "animal-commitment",
   "metadata": {},
   "outputs": [
    {
     "data": {
      "text/html": [
       "<div>\n",
       "<style scoped>\n",
       "    .dataframe tbody tr th:only-of-type {\n",
       "        vertical-align: middle;\n",
       "    }\n",
       "\n",
       "    .dataframe tbody tr th {\n",
       "        vertical-align: top;\n",
       "    }\n",
       "\n",
       "    .dataframe thead th {\n",
       "        text-align: right;\n",
       "    }\n",
       "</style>\n",
       "<table border=\"1\" class=\"dataframe\">\n",
       "  <thead>\n",
       "    <tr style=\"text-align: right;\">\n",
       "      <th></th>\n",
       "      <th>etiqueta</th>\n",
       "      <th>etiqueta_binaria</th>\n",
       "      <th>Prom_Movil</th>\n",
       "      <th>uma10</th>\n",
       "      <th>Momentum</th>\n",
       "      <th>AD_oscilator</th>\n",
       "      <th>LarryWilliams</th>\n",
       "      <th>StochasticK</th>\n",
       "    </tr>\n",
       "    <tr>\n",
       "      <th>Date</th>\n",
       "      <th></th>\n",
       "      <th></th>\n",
       "      <th></th>\n",
       "      <th></th>\n",
       "      <th></th>\n",
       "      <th></th>\n",
       "      <th></th>\n",
       "      <th></th>\n",
       "    </tr>\n",
       "  </thead>\n",
       "  <tbody>\n",
       "    <tr>\n",
       "      <th>2021-01-26</th>\n",
       "      <td>1</td>\n",
       "      <td>1</td>\n",
       "      <td>133.762001</td>\n",
       "      <td>136.467819</td>\n",
       "      <td>14.360001</td>\n",
       "      <td>0.826084</td>\n",
       "      <td>0.103153</td>\n",
       "      <td>0.896847</td>\n",
       "    </tr>\n",
       "    <tr>\n",
       "      <th>2021-01-27</th>\n",
       "      <td>-1</td>\n",
       "      <td>0</td>\n",
       "      <td>135.088000</td>\n",
       "      <td>137.976546</td>\n",
       "      <td>11.169998</td>\n",
       "      <td>1.964918</td>\n",
       "      <td>0.166210</td>\n",
       "      <td>0.833790</td>\n",
       "    </tr>\n",
       "    <tr>\n",
       "      <th>2021-01-28</th>\n",
       "      <td>-1</td>\n",
       "      <td>0</td>\n",
       "      <td>135.708000</td>\n",
       "      <td>138.340545</td>\n",
       "      <td>8.179993</td>\n",
       "      <td>-70.008066</td>\n",
       "      <td>0.438837</td>\n",
       "      <td>0.561163</td>\n",
       "    </tr>\n",
       "    <tr>\n",
       "      <th>2021-01-29</th>\n",
       "      <td>-1</td>\n",
       "      <td>0</td>\n",
       "      <td>136.013000</td>\n",
       "      <td>137.659092</td>\n",
       "      <td>4.820007</td>\n",
       "      <td>-13.657497</td>\n",
       "      <td>0.720241</td>\n",
       "      <td>0.279759</td>\n",
       "    </tr>\n",
       "    <tr>\n",
       "      <th>2021-02-01</th>\n",
       "      <td>1</td>\n",
       "      <td>1</td>\n",
       "      <td>136.713000</td>\n",
       "      <td>137.318546</td>\n",
       "      <td>6.309998</td>\n",
       "      <td>0.362575</td>\n",
       "      <td>0.600658</td>\n",
       "      <td>0.399342</td>\n",
       "    </tr>\n",
       "    <tr>\n",
       "      <th>...</th>\n",
       "      <td>...</td>\n",
       "      <td>...</td>\n",
       "      <td>...</td>\n",
       "      <td>...</td>\n",
       "      <td>...</td>\n",
       "      <td>...</td>\n",
       "      <td>...</td>\n",
       "      <td>...</td>\n",
       "    </tr>\n",
       "    <tr>\n",
       "      <th>2022-04-25</th>\n",
       "      <td>1</td>\n",
       "      <td>1</td>\n",
       "      <td>165.988998</td>\n",
       "      <td>165.273816</td>\n",
       "      <td>-2.869995</td>\n",
       "      <td>0.210139</td>\n",
       "      <td>0.777218</td>\n",
       "      <td>0.222782</td>\n",
       "    </tr>\n",
       "    <tr>\n",
       "      <th>2022-04-26</th>\n",
       "      <td>-1</td>\n",
       "      <td>0</td>\n",
       "      <td>165.093999</td>\n",
       "      <td>163.603090</td>\n",
       "      <td>-10.860001</td>\n",
       "      <td>-10.259084</td>\n",
       "      <td>0.995269</td>\n",
       "      <td>0.004731</td>\n",
       "    </tr>\n",
       "    <tr>\n",
       "      <th>2022-04-27</th>\n",
       "      <td>-1</td>\n",
       "      <td>0</td>\n",
       "      <td>163.984999</td>\n",
       "      <td>162.053273</td>\n",
       "      <td>-13.829987</td>\n",
       "      <td>1.076922</td>\n",
       "      <td>0.933815</td>\n",
       "      <td>0.066185</td>\n",
       "    </tr>\n",
       "    <tr>\n",
       "      <th>2022-04-28</th>\n",
       "      <td>1</td>\n",
       "      <td>1</td>\n",
       "      <td>163.309000</td>\n",
       "      <td>161.990546</td>\n",
       "      <td>-1.649994</td>\n",
       "      <td>0.110692</td>\n",
       "      <td>0.496342</td>\n",
       "      <td>0.503658</td>\n",
       "    </tr>\n",
       "    <tr>\n",
       "      <th>2022-04-29</th>\n",
       "      <td>-1</td>\n",
       "      <td>0</td>\n",
       "      <td>162.545000</td>\n",
       "      <td>160.961636</td>\n",
       "      <td>-7.420013</td>\n",
       "      <td>3.339848</td>\n",
       "      <td>0.859443</td>\n",
       "      <td>0.140557</td>\n",
       "    </tr>\n",
       "  </tbody>\n",
       "</table>\n",
       "<p>319 rows × 8 columns</p>\n",
       "</div>"
      ],
      "text/plain": [
       "            etiqueta  etiqueta_binaria  Prom_Movil       uma10   Momentum  \\\n",
       "Date                                                                        \n",
       "2021-01-26         1                 1  133.762001  136.467819  14.360001   \n",
       "2021-01-27        -1                 0  135.088000  137.976546  11.169998   \n",
       "2021-01-28        -1                 0  135.708000  138.340545   8.179993   \n",
       "2021-01-29        -1                 0  136.013000  137.659092   4.820007   \n",
       "2021-02-01         1                 1  136.713000  137.318546   6.309998   \n",
       "...              ...               ...         ...         ...        ...   \n",
       "2022-04-25         1                 1  165.988998  165.273816  -2.869995   \n",
       "2022-04-26        -1                 0  165.093999  163.603090 -10.860001   \n",
       "2022-04-27        -1                 0  163.984999  162.053273 -13.829987   \n",
       "2022-04-28         1                 1  163.309000  161.990546  -1.649994   \n",
       "2022-04-29        -1                 0  162.545000  160.961636  -7.420013   \n",
       "\n",
       "            AD_oscilator  LarryWilliams  StochasticK  \n",
       "Date                                                  \n",
       "2021-01-26      0.826084       0.103153     0.896847  \n",
       "2021-01-27      1.964918       0.166210     0.833790  \n",
       "2021-01-28    -70.008066       0.438837     0.561163  \n",
       "2021-01-29    -13.657497       0.720241     0.279759  \n",
       "2021-02-01      0.362575       0.600658     0.399342  \n",
       "...                  ...            ...          ...  \n",
       "2022-04-25      0.210139       0.777218     0.222782  \n",
       "2022-04-26    -10.259084       0.995269     0.004731  \n",
       "2022-04-27      1.076922       0.933815     0.066185  \n",
       "2022-04-28      0.110692       0.496342     0.503658  \n",
       "2022-04-29      3.339848       0.859443     0.140557  \n",
       "\n",
       "[319 rows x 8 columns]"
      ]
     },
     "execution_count": 17,
     "metadata": {},
     "output_type": "execute_result"
    }
   ],
   "source": [
    "df_ml"
   ]
  },
  {
   "cell_type": "code",
   "execution_count": 18,
   "id": "critical-outline",
   "metadata": {},
   "outputs": [
    {
     "data": {
      "text/plain": [
       "array([[26, 11],\n",
       "       [12, 31]])"
      ]
     },
     "execution_count": 18,
     "metadata": {},
     "output_type": "execute_result"
    }
   ],
   "source": [
    "# Regresión logística\n",
    "\n",
    "feature_cols = ['Prom_Movil', 'uma10', 'Momentum']\n",
    "X = df_ml[feature_cols] # Variables explicativas\n",
    "y = df_ml['etiqueta_binaria'] # Variable respuesta\n",
    "\n",
    "X_train,X_test,y_train,y_test = train_test_split(X,y,test_size=0.25,random_state=0)\n",
    "\n",
    "logreg = LogisticRegression()\n",
    "logreg.fit(X_train,y_train)\n",
    "y_pred=logreg.predict(X_test)\n",
    "\n",
    "cnf_matrix = metrics.confusion_matrix(y_test, y_pred)\n",
    "cnf_matrix"
   ]
  },
  {
   "cell_type": "code",
   "execution_count": 19,
   "id": "determined-dominant",
   "metadata": {},
   "outputs": [
    {
     "data": {
      "image/png": "[encoded data removed]",
      "text/plain": [
       "<Figure size 432x288 with 2 Axes>"
      ]
     },
     "metadata": {
      "needs_background": "light"
     },
     "output_type": "display_data"
    }
   ],
   "source": [
    "class_names=[0,1] # name  of classes\n",
    "fig, ax = plt.subplots()\n",
    "tick_marks = np.arange(len(class_names))\n",
    "plt.xticks(tick_marks, class_names)\n",
    "plt.yticks(tick_marks, class_names)\n",
    "# create heatmap\n",
    "sns.heatmap(pd.DataFrame(cnf_matrix), annot=True, cmap=\"YlGnBu\" ,fmt='g')\n",
    "ax.xaxis.set_label_position(\"top\")\n",
    "plt.tight_layout()\n",
    "plt.title('Matriz de confusión', y=1.1)\n",
    "plt.ylabel('Etiqueta real')\n",
    "plt.xlabel('Etiqueta predecida');"
   ]
  },
  {
   "cell_type": "code",
   "execution_count": 20,
   "id": "numerical-paragraph",
   "metadata": {},
   "outputs": [
    {
     "name": "stdout",
     "output_type": "stream",
     "text": [
      "Accuracy: 0.7125\n",
      "Precisión: 0.7380952380952381\n",
      "Recall: 0.7209302325581395\n"
     ]
    }
   ],
   "source": [
    "print(\"Accuracy:\",metrics.accuracy_score(y_test, y_pred))\n",
    "print(\"Precisión:\",metrics.precision_score(y_test, y_pred))\n",
    "print(\"Recall:\",metrics.recall_score(y_test, y_pred))"
   ]
  },
  {
   "cell_type": "code",
   "execution_count": 21,
   "id": "future-undergraduate",
   "metadata": {},
   "outputs": [
    {
     "data": {
      "text/plain": [
       "array([[27, 10],\n",
       "       [16, 27]])"
      ]
     },
     "execution_count": 21,
     "metadata": {},
     "output_type": "execute_result"
    }
   ],
   "source": [
    "## Máquina de soporte vectorial\n",
    "\n",
    "feature_cols = ['Prom_Movil', 'uma10', 'Momentum']\n",
    "X = df_ml[feature_cols] # Variables explicativas\n",
    "y = df_ml['etiqueta'] # Variable respuesta -1/1\n",
    "\n",
    "X_train,X_test,y_train,y_test = train_test_split(X,y,test_size=0.25,random_state=0)\n",
    "\n",
    "clf = svm.SVC(kernel='linear') # Kernel lineal\n",
    "#### <--- Nos falta hacer la selección del kernel y los hiperparámetros\n",
    "clf.fit(X_train, y_train)\n",
    "y_pred = clf.predict(X_test)\n",
    "\n",
    "cnf_matrix = metrics.confusion_matrix(y_test, y_pred)\n",
    "cnf_matrix"
   ]
  },
  {
   "cell_type": "code",
   "execution_count": 22,
   "id": "oriental-copper",
   "metadata": {},
   "outputs": [
    {
     "name": "stdout",
     "output_type": "stream",
     "text": [
      "Accuracy: 0.675\n",
      "Precision: 0.7297297297297297\n",
      "Recall: 0.627906976744186\n"
     ]
    }
   ],
   "source": [
    "print(\"Accuracy:\",metrics.accuracy_score(y_test, y_pred))\n",
    "print(\"Precision:\",metrics.precision_score(y_test, y_pred))\n",
    "print(\"Recall:\",metrics.recall_score(y_test, y_pred))"
   ]
  },
  {
   "cell_type": "code",
   "execution_count": null,
   "id": "dietary-following",
   "metadata": {},
   "outputs": [],
   "source": []
  },
  {
   "cell_type": "code",
   "execution_count": 23,
   "id": "powered-emergency",
   "metadata": {},
   "outputs": [
    {
     "data": {
      "text/plain": [
       "array([[14, 23],\n",
       "       [23, 20]])"
      ]
     },
     "execution_count": 23,
     "metadata": {},
     "output_type": "execute_result"
    }
   ],
   "source": [
    "# Árbol de clasificación\n",
    "\n",
    "clf_arbol = DecisionTreeClassifier()\n",
    "## <--- Falta hacer la calibración de hiperparams: criterion=\"entropy\", max_depth=3\n",
    "clf_arbol = clf_arbol.fit(X_train,y_train)\n",
    "y_pred = clf_arbol.predict(X_test)\n",
    "\n",
    "cnf_matrix = metrics.confusion_matrix(y_test, y_pred)\n",
    "cnf_matrix"
   ]
  },
  {
   "cell_type": "code",
   "execution_count": 24,
   "id": "binary-commons",
   "metadata": {},
   "outputs": [
    {
     "name": "stdout",
     "output_type": "stream",
     "text": [
      "Accuracy: 0.425\n",
      "Precision: 0.46511627906976744\n",
      "Recall: 0.46511627906976744\n"
     ]
    }
   ],
   "source": [
    "print(\"Accuracy:\",metrics.accuracy_score(y_test, y_pred))\n",
    "print(\"Precision:\",metrics.precision_score(y_test, y_pred))\n",
    "print(\"Recall:\",metrics.recall_score(y_test, y_pred))"
   ]
  },
  {
   "cell_type": "code",
   "execution_count": 25,
   "id": "adjustable-patch",
   "metadata": {},
   "outputs": [
    {
     "data": {
      "text/plain": [
       "array([[13, 24],\n",
       "       [24, 19]])"
      ]
     },
     "execution_count": 25,
     "metadata": {},
     "output_type": "execute_result"
    }
   ],
   "source": [
    "# Random Forest\n",
    "\n",
    "clf_rf = RandomForestClassifier(n_estimators=100)\n",
    "clf_rf = clf_rf.fit(X_train,y_train)\n",
    "y_pred = clf_rf.predict(X_test)\n",
    "\n",
    "cnf_matrix = metrics.confusion_matrix(y_test, y_pred)\n",
    "cnf_matrix"
   ]
  },
  {
   "cell_type": "code",
   "execution_count": 26,
   "id": "nasty-round",
   "metadata": {},
   "outputs": [
    {
     "name": "stdout",
     "output_type": "stream",
     "text": [
      "Accuracy: 0.4\n",
      "Precision: 0.4418604651162791\n",
      "Recall: 0.4418604651162791\n"
     ]
    }
   ],
   "source": [
    "print(\"Accuracy:\",metrics.accuracy_score(y_test, y_pred))\n",
    "print(\"Precision:\",metrics.precision_score(y_test, y_pred))\n",
    "print(\"Recall:\",metrics.recall_score(y_test, y_pred))"
   ]
  },
  {
   "cell_type": "code",
   "execution_count": 27,
   "id": "ordered-glance",
   "metadata": {},
   "outputs": [
    {
     "data": {
      "text/plain": [
       "array([[19, 18],\n",
       "       [20, 23]])"
      ]
     },
     "execution_count": 27,
     "metadata": {},
     "output_type": "execute_result"
    }
   ],
   "source": [
    "# Vecinos más cercanos\n",
    "\n",
    "clf_kn = KNeighborsClassifier(n_neighbors=3)\n",
    "clf_kn = clf_kn.fit(X_train,y_train)\n",
    "y_pred = clf_kn.predict(X_test)\n",
    "\n",
    "cnf_matrix = metrics.confusion_matrix(y_test, y_pred)\n",
    "cnf_matrix"
   ]
  },
  {
   "cell_type": "code",
   "execution_count": 28,
   "id": "limited-implement",
   "metadata": {},
   "outputs": [
    {
     "name": "stdout",
     "output_type": "stream",
     "text": [
      "Accuracy: 0.525\n",
      "Precision: 0.5609756097560976\n",
      "Recall: 0.5348837209302325\n"
     ]
    }
   ],
   "source": [
    "print(\"Accuracy:\",metrics.accuracy_score(y_test, y_pred))\n",
    "print(\"Precision:\",metrics.precision_score(y_test, y_pred))\n",
    "print(\"Recall:\",metrics.recall_score(y_test, y_pred))"
   ]
  },
  {
   "cell_type": "code",
   "execution_count": 29,
   "id": "economic-embassy",
   "metadata": {},
   "outputs": [
    {
     "data": {
      "text/plain": [
       "array([[20, 17],\n",
       "       [18, 25]])"
      ]
     },
     "execution_count": 29,
     "metadata": {},
     "output_type": "execute_result"
    }
   ],
   "source": [
    "# AdaBoost\n",
    "\n",
    "clf_ab = AdaBoostClassifier(n_estimators=50,\n",
    "                         learning_rate=1)\n",
    "clf_ab = clf_ab.fit(X_train,y_train)\n",
    "y_pred = clf_ab.predict(X_test)\n",
    "\n",
    "cnf_matrix = metrics.confusion_matrix(y_test, y_pred)\n",
    "cnf_matrix"
   ]
  },
  {
   "cell_type": "code",
   "execution_count": 30,
   "id": "parliamentary-louis",
   "metadata": {},
   "outputs": [
    {
     "name": "stdout",
     "output_type": "stream",
     "text": [
      "Accuracy: 0.5625\n",
      "Precision: 0.5952380952380952\n",
      "Recall: 0.5813953488372093\n"
     ]
    }
   ],
   "source": [
    "print(\"Accuracy:\",metrics.accuracy_score(y_test, y_pred))\n",
    "print(\"Precision:\",metrics.precision_score(y_test, y_pred))\n",
    "print(\"Recall:\",metrics.recall_score(y_test, y_pred))"
   ]
  },
  {
   "cell_type": "code",
   "execution_count": null,
   "id": "informational-cargo",
   "metadata": {},
   "outputs": [],
   "source": []
  }
 ],
 "metadata": {
  "kernelspec": {
   "display_name": "Python 3",
   "language": "python",
   "name": "python3"
  },
  "language_info": {
   "codemirror_mode": {
    "name": "ipython",
    "version": 3
   },
   "file_extension": ".py",
   "mimetype": "text/x-python",
   "name": "python",
   "nbconvert_exporter": "python",
   "pygments_lexer": "ipython3",
   "version": "3.9.1"
  }
 },
 "nbformat": 4,
 "nbformat_minor": 5
}
