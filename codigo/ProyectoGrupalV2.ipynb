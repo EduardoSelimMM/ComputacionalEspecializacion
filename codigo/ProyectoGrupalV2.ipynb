{
 "cells": [
  {
   "cell_type": "markdown",
   "id": "determined-class",
   "metadata": {},
   "source": [
    "# Finanzas Computacionales\n",
    "## Proyecto grupal\n",
    "### Profesor: Dr. Luis Vicente Montiel Cendejas\n",
    "### Estudiante: Marina, Aldair y Eduardo\n",
    "### Fecha de entrega: 23 de Mayo de 2022"
   ]
  },
  {
   "cell_type": "markdown",
   "id": "aerial-window",
   "metadata": {},
   "source": [
    "# Resumen"
   ]
  },
  {
   "cell_type": "markdown",
   "id": "supreme-comment",
   "metadata": {},
   "source": [
    "Uno de los objetivos de este proyecto es ..."
   ]
  },
  {
   "cell_type": "code",
   "execution_count": 1,
   "id": "reverse-advantage",
   "metadata": {},
   "outputs": [],
   "source": [
    "import numpy as np\n",
    "import pandas as pd # librería para manejo de dataframes\n",
    "import matplotlib.pyplot as plt\n",
    "import seaborn as sns\n",
    "import yfinance as yf # librería para descarga de históricos de Yahoo Finance\n",
    "import math\n",
    "\n",
    "from sklearn.model_selection import train_test_split\n",
    "\n",
    "\n",
    "from sklearn.linear_model import LogisticRegression\n",
    "from sklearn import svm\n",
    "from sklearn.tree import DecisionTreeClassifier\n",
    "from sklearn.ensemble import RandomForestClassifier\n",
    "from sklearn.neighbors import KNeighborsClassifier\n",
    "from sklearn.ensemble import AdaBoostClassifier\n",
    "\n",
    "\n",
    "from sklearn.preprocessing import PolynomialFeatures\n",
    "from sklearn.linear_model import LinearRegression\n",
    "\n",
    "from sklearn import metrics"
   ]
  },
  {
   "cell_type": "code",
   "execution_count": 2,
   "id": "actual-singapore",
   "metadata": {},
   "outputs": [],
   "source": [
    "ticker = 'AAPL'\n",
    "fecha_inicio = '2021-01-01'\n",
    "fecha_fin = '2022-04-30'"
   ]
  },
  {
   "cell_type": "code",
   "execution_count": 3,
   "id": "becoming-accuracy",
   "metadata": {},
   "outputs": [],
   "source": [
    "def funcion_etiqueta(x):\n",
    "    if x<=0:\n",
    "        y = -1\n",
    "    else:\n",
    "        y = 1\n",
    "    return(y)\n",
    "\n",
    "def funcion_encoding(x):\n",
    "    if x == -1:\n",
    "        y = 0\n",
    "    else:\n",
    "        y = 1\n",
    "    return(y)"
   ]
  },
  {
   "cell_type": "code",
   "execution_count": null,
   "id": "anticipated-tours",
   "metadata": {},
   "outputs": [],
   "source": []
  },
  {
   "cell_type": "code",
   "execution_count": 4,
   "id": "occasional-carnival",
   "metadata": {},
   "outputs": [],
   "source": [
    "def descarga_historico(ticker, fecha_inicio, fecha_fin):\n",
    "    df_hist = yf.download(ticker, start = fecha_inicio, end = fecha_fin, progress=False)\n",
    "    df = df_hist.iloc[1:]['Close']\n",
    "    df = df.to_frame()\n",
    "    return(df)"
   ]
  },
  {
   "cell_type": "code",
   "execution_count": 5,
   "id": "arbitrary-delicious",
   "metadata": {},
   "outputs": [
    {
     "data": {
      "text/html": [
       "<div>\n",
       "<style scoped>\n",
       "    .dataframe tbody tr th:only-of-type {\n",
       "        vertical-align: middle;\n",
       "    }\n",
       "\n",
       "    .dataframe tbody tr th {\n",
       "        vertical-align: top;\n",
       "    }\n",
       "\n",
       "    .dataframe thead th {\n",
       "        text-align: right;\n",
       "    }\n",
       "</style>\n",
       "<table border=\"1\" class=\"dataframe\">\n",
       "  <thead>\n",
       "    <tr style=\"text-align: right;\">\n",
       "      <th></th>\n",
       "      <th>Close</th>\n",
       "    </tr>\n",
       "    <tr>\n",
       "      <th>Date</th>\n",
       "      <th></th>\n",
       "    </tr>\n",
       "  </thead>\n",
       "  <tbody>\n",
       "    <tr>\n",
       "      <th>2021-01-05</th>\n",
       "      <td>131.009995</td>\n",
       "    </tr>\n",
       "    <tr>\n",
       "      <th>2021-01-06</th>\n",
       "      <td>126.599998</td>\n",
       "    </tr>\n",
       "    <tr>\n",
       "      <th>2021-01-07</th>\n",
       "      <td>130.919998</td>\n",
       "    </tr>\n",
       "    <tr>\n",
       "      <th>2021-01-08</th>\n",
       "      <td>132.050003</td>\n",
       "    </tr>\n",
       "    <tr>\n",
       "      <th>2021-01-11</th>\n",
       "      <td>128.979996</td>\n",
       "    </tr>\n",
       "    <tr>\n",
       "      <th>...</th>\n",
       "      <td>...</td>\n",
       "    </tr>\n",
       "    <tr>\n",
       "      <th>2022-04-25</th>\n",
       "      <td>162.880005</td>\n",
       "    </tr>\n",
       "    <tr>\n",
       "      <th>2022-04-26</th>\n",
       "      <td>156.800003</td>\n",
       "    </tr>\n",
       "    <tr>\n",
       "      <th>2022-04-27</th>\n",
       "      <td>156.570007</td>\n",
       "    </tr>\n",
       "    <tr>\n",
       "      <th>2022-04-28</th>\n",
       "      <td>163.639999</td>\n",
       "    </tr>\n",
       "    <tr>\n",
       "      <th>2022-04-29</th>\n",
       "      <td>157.649994</td>\n",
       "    </tr>\n",
       "  </tbody>\n",
       "</table>\n",
       "<p>333 rows × 1 columns</p>\n",
       "</div>"
      ],
      "text/plain": [
       "                 Close\n",
       "Date                  \n",
       "2021-01-05  131.009995\n",
       "2021-01-06  126.599998\n",
       "2021-01-07  130.919998\n",
       "2021-01-08  132.050003\n",
       "2021-01-11  128.979996\n",
       "...                ...\n",
       "2022-04-25  162.880005\n",
       "2022-04-26  156.800003\n",
       "2022-04-27  156.570007\n",
       "2022-04-28  163.639999\n",
       "2022-04-29  157.649994\n",
       "\n",
       "[333 rows x 1 columns]"
      ]
     },
     "execution_count": 5,
     "metadata": {},
     "output_type": "execute_result"
    }
   ],
   "source": [
    "descarga_historico(ticker, fecha_inicio, fecha_fin)"
   ]
  },
  {
   "cell_type": "code",
   "execution_count": 6,
   "id": "warming-struggle",
   "metadata": {},
   "outputs": [],
   "source": [
    "df = descarga_historico(ticker, fecha_inicio, fecha_fin)"
   ]
  },
  {
   "cell_type": "code",
   "execution_count": 7,
   "id": "maritime-disposal",
   "metadata": {},
   "outputs": [
    {
     "data": {
      "text/html": [
       "<div>\n",
       "<style scoped>\n",
       "    .dataframe tbody tr th:only-of-type {\n",
       "        vertical-align: middle;\n",
       "    }\n",
       "\n",
       "    .dataframe tbody tr th {\n",
       "        vertical-align: top;\n",
       "    }\n",
       "\n",
       "    .dataframe thead th {\n",
       "        text-align: right;\n",
       "    }\n",
       "</style>\n",
       "<table border=\"1\" class=\"dataframe\">\n",
       "  <thead>\n",
       "    <tr style=\"text-align: right;\">\n",
       "      <th></th>\n",
       "      <th>etiqueta</th>\n",
       "    </tr>\n",
       "    <tr>\n",
       "      <th>Date</th>\n",
       "      <th></th>\n",
       "    </tr>\n",
       "  </thead>\n",
       "  <tbody>\n",
       "    <tr>\n",
       "      <th>2021-01-05</th>\n",
       "      <td>1</td>\n",
       "    </tr>\n",
       "    <tr>\n",
       "      <th>2021-01-06</th>\n",
       "      <td>-1</td>\n",
       "    </tr>\n",
       "    <tr>\n",
       "      <th>2021-01-07</th>\n",
       "      <td>1</td>\n",
       "    </tr>\n",
       "    <tr>\n",
       "      <th>2021-01-08</th>\n",
       "      <td>1</td>\n",
       "    </tr>\n",
       "    <tr>\n",
       "      <th>2021-01-11</th>\n",
       "      <td>-1</td>\n",
       "    </tr>\n",
       "    <tr>\n",
       "      <th>...</th>\n",
       "      <td>...</td>\n",
       "    </tr>\n",
       "    <tr>\n",
       "      <th>2022-04-25</th>\n",
       "      <td>1</td>\n",
       "    </tr>\n",
       "    <tr>\n",
       "      <th>2022-04-26</th>\n",
       "      <td>-1</td>\n",
       "    </tr>\n",
       "    <tr>\n",
       "      <th>2022-04-27</th>\n",
       "      <td>-1</td>\n",
       "    </tr>\n",
       "    <tr>\n",
       "      <th>2022-04-28</th>\n",
       "      <td>1</td>\n",
       "    </tr>\n",
       "    <tr>\n",
       "      <th>2022-04-29</th>\n",
       "      <td>-1</td>\n",
       "    </tr>\n",
       "  </tbody>\n",
       "</table>\n",
       "<p>333 rows × 1 columns</p>\n",
       "</div>"
      ],
      "text/plain": [
       "            etiqueta\n",
       "Date                \n",
       "2021-01-05         1\n",
       "2021-01-06        -1\n",
       "2021-01-07         1\n",
       "2021-01-08         1\n",
       "2021-01-11        -1\n",
       "...              ...\n",
       "2022-04-25         1\n",
       "2022-04-26        -1\n",
       "2022-04-27        -1\n",
       "2022-04-28         1\n",
       "2022-04-29        -1\n",
       "\n",
       "[333 rows x 1 columns]"
      ]
     },
     "execution_count": 7,
     "metadata": {},
     "output_type": "execute_result"
    }
   ],
   "source": [
    "df_diferencia = df['Close'] - df.shift(1)['Close']\n",
    "df_diferencia = df_diferencia.to_frame()\n",
    "df_diferencia['etiqueta'] = df_diferencia['Close'].apply(funcion_etiqueta)\n",
    "df_etiq = df_diferencia['etiqueta']\n",
    "df_etiq = df_etiq.to_frame()\n",
    "    #return(df)\n",
    "df_etiq"
   ]
  },
  {
   "cell_type": "code",
   "execution_count": 8,
   "id": "advance-cleaning",
   "metadata": {},
   "outputs": [],
   "source": [
    "def construye_etiquetas(ticker, fecha_inicio, fecha_fin):\n",
    "    df = descarga_historico(ticker, fecha_inicio, fecha_fin)\n",
    "    df_diferencia = df['Close'] - df.shift(1)['Close']\n",
    "    df_diferencia = df_diferencia.to_frame()\n",
    "    df_diferencia['etiqueta'] = df_diferencia['Close'].apply(funcion_etiqueta)\n",
    "    df_etiq = df_diferencia['etiqueta']\n",
    "    df_etiq = df_etiq.to_frame()\n",
    "    df_etiq['etiqueta_binaria'] = df_etiq['etiqueta'].apply(funcion_encoding)\n",
    "    return(df_etiq)"
   ]
  },
  {
   "cell_type": "code",
   "execution_count": null,
   "id": "controlling-reservoir",
   "metadata": {},
   "outputs": [],
   "source": []
  },
  {
   "cell_type": "code",
   "execution_count": 9,
   "id": "ignored-dimension",
   "metadata": {},
   "outputs": [
    {
     "data": {
      "text/html": [
       "<div>\n",
       "<style scoped>\n",
       "    .dataframe tbody tr th:only-of-type {\n",
       "        vertical-align: middle;\n",
       "    }\n",
       "\n",
       "    .dataframe tbody tr th {\n",
       "        vertical-align: top;\n",
       "    }\n",
       "\n",
       "    .dataframe thead th {\n",
       "        text-align: right;\n",
       "    }\n",
       "</style>\n",
       "<table border=\"1\" class=\"dataframe\">\n",
       "  <thead>\n",
       "    <tr style=\"text-align: right;\">\n",
       "      <th></th>\n",
       "      <th>etiqueta</th>\n",
       "      <th>etiqueta_binaria</th>\n",
       "    </tr>\n",
       "    <tr>\n",
       "      <th>Date</th>\n",
       "      <th></th>\n",
       "      <th></th>\n",
       "    </tr>\n",
       "  </thead>\n",
       "  <tbody>\n",
       "    <tr>\n",
       "      <th>2021-01-05</th>\n",
       "      <td>1</td>\n",
       "      <td>1</td>\n",
       "    </tr>\n",
       "    <tr>\n",
       "      <th>2021-01-06</th>\n",
       "      <td>-1</td>\n",
       "      <td>0</td>\n",
       "    </tr>\n",
       "    <tr>\n",
       "      <th>2021-01-07</th>\n",
       "      <td>1</td>\n",
       "      <td>1</td>\n",
       "    </tr>\n",
       "    <tr>\n",
       "      <th>2021-01-08</th>\n",
       "      <td>1</td>\n",
       "      <td>1</td>\n",
       "    </tr>\n",
       "    <tr>\n",
       "      <th>2021-01-11</th>\n",
       "      <td>-1</td>\n",
       "      <td>0</td>\n",
       "    </tr>\n",
       "    <tr>\n",
       "      <th>...</th>\n",
       "      <td>...</td>\n",
       "      <td>...</td>\n",
       "    </tr>\n",
       "    <tr>\n",
       "      <th>2022-04-25</th>\n",
       "      <td>1</td>\n",
       "      <td>1</td>\n",
       "    </tr>\n",
       "    <tr>\n",
       "      <th>2022-04-26</th>\n",
       "      <td>-1</td>\n",
       "      <td>0</td>\n",
       "    </tr>\n",
       "    <tr>\n",
       "      <th>2022-04-27</th>\n",
       "      <td>-1</td>\n",
       "      <td>0</td>\n",
       "    </tr>\n",
       "    <tr>\n",
       "      <th>2022-04-28</th>\n",
       "      <td>1</td>\n",
       "      <td>1</td>\n",
       "    </tr>\n",
       "    <tr>\n",
       "      <th>2022-04-29</th>\n",
       "      <td>-1</td>\n",
       "      <td>0</td>\n",
       "    </tr>\n",
       "  </tbody>\n",
       "</table>\n",
       "<p>333 rows × 2 columns</p>\n",
       "</div>"
      ],
      "text/plain": [
       "            etiqueta  etiqueta_binaria\n",
       "Date                                  \n",
       "2021-01-05         1                 1\n",
       "2021-01-06        -1                 0\n",
       "2021-01-07         1                 1\n",
       "2021-01-08         1                 1\n",
       "2021-01-11        -1                 0\n",
       "...              ...               ...\n",
       "2022-04-25         1                 1\n",
       "2022-04-26        -1                 0\n",
       "2022-04-27        -1                 0\n",
       "2022-04-28         1                 1\n",
       "2022-04-29        -1                 0\n",
       "\n",
       "[333 rows x 2 columns]"
      ]
     },
     "execution_count": 9,
     "metadata": {},
     "output_type": "execute_result"
    }
   ],
   "source": [
    "construye_etiquetas(ticker, fecha_inicio, fecha_fin)"
   ]
  },
  {
   "cell_type": "code",
   "execution_count": 10,
   "id": "hidden-hydrogen",
   "metadata": {},
   "outputs": [],
   "source": [
    "df = construye_etiquetas(ticker, fecha_inicio, fecha_fin)"
   ]
  },
  {
   "cell_type": "code",
   "execution_count": 11,
   "id": "retired-clone",
   "metadata": {},
   "outputs": [
    {
     "data": {
      "text/plain": [
       " 1    170\n",
       "-1    163\n",
       "Name: etiqueta, dtype: int64"
      ]
     },
     "execution_count": 11,
     "metadata": {},
     "output_type": "execute_result"
    }
   ],
   "source": [
    "frecuencias = df['etiqueta'].value_counts()\n",
    "frecuencias"
   ]
  },
  {
   "cell_type": "code",
   "execution_count": 12,
   "id": "roman-virgin",
   "metadata": {},
   "outputs": [
    {
     "data": {
      "image/png": "[encoded data removed]",
      "text/plain": [
       "<Figure size 432x288 with 1 Axes>"
      ]
     },
     "metadata": {},
     "output_type": "display_data"
    }
   ],
   "source": [
    "frecuencias.plot(kind='pie');"
   ]
  },
  {
   "cell_type": "code",
   "execution_count": 13,
   "id": "manual-scheduling",
   "metadata": {},
   "outputs": [
    {
     "data": {
      "text/html": [
       "<div>\n",
       "<style scoped>\n",
       "    .dataframe tbody tr th:only-of-type {\n",
       "        vertical-align: middle;\n",
       "    }\n",
       "\n",
       "    .dataframe tbody tr th {\n",
       "        vertical-align: top;\n",
       "    }\n",
       "\n",
       "    .dataframe thead th {\n",
       "        text-align: right;\n",
       "    }\n",
       "</style>\n",
       "<table border=\"1\" class=\"dataframe\">\n",
       "  <thead>\n",
       "    <tr style=\"text-align: right;\">\n",
       "      <th></th>\n",
       "      <th>Close</th>\n",
       "    </tr>\n",
       "    <tr>\n",
       "      <th>Date</th>\n",
       "      <th></th>\n",
       "    </tr>\n",
       "  </thead>\n",
       "  <tbody>\n",
       "    <tr>\n",
       "      <th>2021-01-05</th>\n",
       "      <td>131.009995</td>\n",
       "    </tr>\n",
       "    <tr>\n",
       "      <th>2021-01-06</th>\n",
       "      <td>126.599998</td>\n",
       "    </tr>\n",
       "    <tr>\n",
       "      <th>2021-01-07</th>\n",
       "      <td>130.919998</td>\n",
       "    </tr>\n",
       "    <tr>\n",
       "      <th>2021-01-08</th>\n",
       "      <td>132.050003</td>\n",
       "    </tr>\n",
       "    <tr>\n",
       "      <th>2021-01-11</th>\n",
       "      <td>128.979996</td>\n",
       "    </tr>\n",
       "    <tr>\n",
       "      <th>...</th>\n",
       "      <td>...</td>\n",
       "    </tr>\n",
       "    <tr>\n",
       "      <th>2022-04-25</th>\n",
       "      <td>162.880005</td>\n",
       "    </tr>\n",
       "    <tr>\n",
       "      <th>2022-04-26</th>\n",
       "      <td>156.800003</td>\n",
       "    </tr>\n",
       "    <tr>\n",
       "      <th>2022-04-27</th>\n",
       "      <td>156.570007</td>\n",
       "    </tr>\n",
       "    <tr>\n",
       "      <th>2022-04-28</th>\n",
       "      <td>163.639999</td>\n",
       "    </tr>\n",
       "    <tr>\n",
       "      <th>2022-04-29</th>\n",
       "      <td>157.649994</td>\n",
       "    </tr>\n",
       "  </tbody>\n",
       "</table>\n",
       "<p>333 rows × 1 columns</p>\n",
       "</div>"
      ],
      "text/plain": [
       "                 Close\n",
       "Date                  \n",
       "2021-01-05  131.009995\n",
       "2021-01-06  126.599998\n",
       "2021-01-07  130.919998\n",
       "2021-01-08  132.050003\n",
       "2021-01-11  128.979996\n",
       "...                ...\n",
       "2022-04-25  162.880005\n",
       "2022-04-26  156.800003\n",
       "2022-04-27  156.570007\n",
       "2022-04-28  163.639999\n",
       "2022-04-29  157.649994\n",
       "\n",
       "[333 rows x 1 columns]"
      ]
     },
     "execution_count": 13,
     "metadata": {},
     "output_type": "execute_result"
    }
   ],
   "source": [
    "df = descarga_historico(ticker, fecha_inicio, fecha_fin)\n",
    "df"
   ]
  },
  {
   "cell_type": "code",
   "execution_count": 14,
   "id": "verified-saskatchewan",
   "metadata": {},
   "outputs": [],
   "source": [
    "df['moving_avg'] = df['Close'].rolling(10).mean()"
   ]
  },
  {
   "cell_type": "code",
   "execution_count": 15,
   "id": "completed-sentence",
   "metadata": {},
   "outputs": [
    {
     "data": {
      "text/html": [
       "<div>\n",
       "<style scoped>\n",
       "    .dataframe tbody tr th:only-of-type {\n",
       "        vertical-align: middle;\n",
       "    }\n",
       "\n",
       "    .dataframe tbody tr th {\n",
       "        vertical-align: top;\n",
       "    }\n",
       "\n",
       "    .dataframe thead th {\n",
       "        text-align: right;\n",
       "    }\n",
       "</style>\n",
       "<table border=\"1\" class=\"dataframe\">\n",
       "  <thead>\n",
       "    <tr style=\"text-align: right;\">\n",
       "      <th></th>\n",
       "      <th>Close</th>\n",
       "      <th>moving_avg</th>\n",
       "      <th>uma10</th>\n",
       "    </tr>\n",
       "    <tr>\n",
       "      <th>Date</th>\n",
       "      <th></th>\n",
       "      <th></th>\n",
       "      <th></th>\n",
       "    </tr>\n",
       "  </thead>\n",
       "  <tbody>\n",
       "    <tr>\n",
       "      <th>2021-01-05</th>\n",
       "      <td>131.009995</td>\n",
       "      <td>NaN</td>\n",
       "      <td>NaN</td>\n",
       "    </tr>\n",
       "    <tr>\n",
       "      <th>2021-01-06</th>\n",
       "      <td>126.599998</td>\n",
       "      <td>NaN</td>\n",
       "      <td>NaN</td>\n",
       "    </tr>\n",
       "    <tr>\n",
       "      <th>2021-01-07</th>\n",
       "      <td>130.919998</td>\n",
       "      <td>NaN</td>\n",
       "      <td>NaN</td>\n",
       "    </tr>\n",
       "    <tr>\n",
       "      <th>2021-01-08</th>\n",
       "      <td>132.050003</td>\n",
       "      <td>NaN</td>\n",
       "      <td>NaN</td>\n",
       "    </tr>\n",
       "    <tr>\n",
       "      <th>2021-01-11</th>\n",
       "      <td>128.979996</td>\n",
       "      <td>NaN</td>\n",
       "      <td>NaN</td>\n",
       "    </tr>\n",
       "    <tr>\n",
       "      <th>...</th>\n",
       "      <td>...</td>\n",
       "      <td>...</td>\n",
       "      <td>...</td>\n",
       "    </tr>\n",
       "    <tr>\n",
       "      <th>2022-04-25</th>\n",
       "      <td>162.880005</td>\n",
       "      <td>165.988998</td>\n",
       "      <td>165.273816</td>\n",
       "    </tr>\n",
       "    <tr>\n",
       "      <th>2022-04-26</th>\n",
       "      <td>156.800003</td>\n",
       "      <td>165.093999</td>\n",
       "      <td>163.603090</td>\n",
       "    </tr>\n",
       "    <tr>\n",
       "      <th>2022-04-27</th>\n",
       "      <td>156.570007</td>\n",
       "      <td>163.984999</td>\n",
       "      <td>162.053273</td>\n",
       "    </tr>\n",
       "    <tr>\n",
       "      <th>2022-04-28</th>\n",
       "      <td>163.639999</td>\n",
       "      <td>163.309000</td>\n",
       "      <td>161.990546</td>\n",
       "    </tr>\n",
       "    <tr>\n",
       "      <th>2022-04-29</th>\n",
       "      <td>157.649994</td>\n",
       "      <td>162.545000</td>\n",
       "      <td>160.961636</td>\n",
       "    </tr>\n",
       "  </tbody>\n",
       "</table>\n",
       "<p>333 rows × 3 columns</p>\n",
       "</div>"
      ],
      "text/plain": [
       "                 Close  moving_avg       uma10\n",
       "Date                                          \n",
       "2021-01-05  131.009995         NaN         NaN\n",
       "2021-01-06  126.599998         NaN         NaN\n",
       "2021-01-07  130.919998         NaN         NaN\n",
       "2021-01-08  132.050003         NaN         NaN\n",
       "2021-01-11  128.979996         NaN         NaN\n",
       "...                ...         ...         ...\n",
       "2022-04-25  162.880005  165.988998  165.273816\n",
       "2022-04-26  156.800003  165.093999  163.603090\n",
       "2022-04-27  156.570007  163.984999  162.053273\n",
       "2022-04-28  163.639999  163.309000  161.990546\n",
       "2022-04-29  157.649994  162.545000  160.961636\n",
       "\n",
       "[333 rows x 3 columns]"
      ]
     },
     "execution_count": 15,
     "metadata": {},
     "output_type": "execute_result"
    }
   ],
   "source": [
    "ponder = np.arange(1,11)\n",
    "df['uma10'] = df['Close'].rolling(10).apply(lambda precios: np.dot(precios, ponder)/ponder.sum(), raw=True)\n",
    "df"
   ]
  },
  {
   "cell_type": "code",
   "execution_count": 16,
   "id": "ignored-garden",
   "metadata": {},
   "outputs": [],
   "source": [
    "def prom_mov_uma(df, m): #m es el valor del rolling \n",
    "    df['moving_avg'] = df['Close'].rolling(10).mean()\n",
    "    ponder = np.arange(1,11)\n",
    "    df['uma10'] = df['Close'].rolling(10).apply(lambda precios: np.dot(precios, ponder)/ponder.sum(), raw=True)\n",
    "    return(df)"
   ]
  },
  {
   "cell_type": "code",
   "execution_count": 17,
   "id": "passing-medication",
   "metadata": {},
   "outputs": [
    {
     "data": {
      "text/html": [
       "<div>\n",
       "<style scoped>\n",
       "    .dataframe tbody tr th:only-of-type {\n",
       "        vertical-align: middle;\n",
       "    }\n",
       "\n",
       "    .dataframe tbody tr th {\n",
       "        vertical-align: top;\n",
       "    }\n",
       "\n",
       "    .dataframe thead th {\n",
       "        text-align: right;\n",
       "    }\n",
       "</style>\n",
       "<table border=\"1\" class=\"dataframe\">\n",
       "  <thead>\n",
       "    <tr style=\"text-align: right;\">\n",
       "      <th></th>\n",
       "      <th>Close</th>\n",
       "      <th>moving_avg</th>\n",
       "      <th>uma10</th>\n",
       "    </tr>\n",
       "    <tr>\n",
       "      <th>Date</th>\n",
       "      <th></th>\n",
       "      <th></th>\n",
       "      <th></th>\n",
       "    </tr>\n",
       "  </thead>\n",
       "  <tbody>\n",
       "    <tr>\n",
       "      <th>2021-01-05</th>\n",
       "      <td>131.009995</td>\n",
       "      <td>NaN</td>\n",
       "      <td>NaN</td>\n",
       "    </tr>\n",
       "    <tr>\n",
       "      <th>2021-01-06</th>\n",
       "      <td>126.599998</td>\n",
       "      <td>NaN</td>\n",
       "      <td>NaN</td>\n",
       "    </tr>\n",
       "    <tr>\n",
       "      <th>2021-01-07</th>\n",
       "      <td>130.919998</td>\n",
       "      <td>NaN</td>\n",
       "      <td>NaN</td>\n",
       "    </tr>\n",
       "    <tr>\n",
       "      <th>2021-01-08</th>\n",
       "      <td>132.050003</td>\n",
       "      <td>NaN</td>\n",
       "      <td>NaN</td>\n",
       "    </tr>\n",
       "    <tr>\n",
       "      <th>2021-01-11</th>\n",
       "      <td>128.979996</td>\n",
       "      <td>NaN</td>\n",
       "      <td>NaN</td>\n",
       "    </tr>\n",
       "    <tr>\n",
       "      <th>...</th>\n",
       "      <td>...</td>\n",
       "      <td>...</td>\n",
       "      <td>...</td>\n",
       "    </tr>\n",
       "    <tr>\n",
       "      <th>2022-04-25</th>\n",
       "      <td>162.880005</td>\n",
       "      <td>165.988998</td>\n",
       "      <td>165.273816</td>\n",
       "    </tr>\n",
       "    <tr>\n",
       "      <th>2022-04-26</th>\n",
       "      <td>156.800003</td>\n",
       "      <td>165.093999</td>\n",
       "      <td>163.603090</td>\n",
       "    </tr>\n",
       "    <tr>\n",
       "      <th>2022-04-27</th>\n",
       "      <td>156.570007</td>\n",
       "      <td>163.984999</td>\n",
       "      <td>162.053273</td>\n",
       "    </tr>\n",
       "    <tr>\n",
       "      <th>2022-04-28</th>\n",
       "      <td>163.639999</td>\n",
       "      <td>163.309000</td>\n",
       "      <td>161.990546</td>\n",
       "    </tr>\n",
       "    <tr>\n",
       "      <th>2022-04-29</th>\n",
       "      <td>157.649994</td>\n",
       "      <td>162.545000</td>\n",
       "      <td>160.961636</td>\n",
       "    </tr>\n",
       "  </tbody>\n",
       "</table>\n",
       "<p>333 rows × 3 columns</p>\n",
       "</div>"
      ],
      "text/plain": [
       "                 Close  moving_avg       uma10\n",
       "Date                                          \n",
       "2021-01-05  131.009995         NaN         NaN\n",
       "2021-01-06  126.599998         NaN         NaN\n",
       "2021-01-07  130.919998         NaN         NaN\n",
       "2021-01-08  132.050003         NaN         NaN\n",
       "2021-01-11  128.979996         NaN         NaN\n",
       "...                ...         ...         ...\n",
       "2022-04-25  162.880005  165.988998  165.273816\n",
       "2022-04-26  156.800003  165.093999  163.603090\n",
       "2022-04-27  156.570007  163.984999  162.053273\n",
       "2022-04-28  163.639999  163.309000  161.990546\n",
       "2022-04-29  157.649994  162.545000  160.961636\n",
       "\n",
       "[333 rows x 3 columns]"
      ]
     },
     "execution_count": 17,
     "metadata": {},
     "output_type": "execute_result"
    }
   ],
   "source": [
    "m = 10\n",
    "prom_mov_uma(df, m)"
   ]
  },
  {
   "cell_type": "code",
   "execution_count": 18,
   "id": "aging-honey",
   "metadata": {},
   "outputs": [],
   "source": [
    "df_etiquetas = construye_etiquetas(ticker, fecha_inicio, fecha_fin)\n",
    "df_indicadores = prom_mov_uma(df, m)"
   ]
  },
  {
   "cell_type": "code",
   "execution_count": 19,
   "id": "devoted-peripheral",
   "metadata": {},
   "outputs": [],
   "source": [
    "df_ml = pd.merge(df_etiquetas, df_indicadores, left_index=True, right_index=True)\n",
    "df_ml = df_ml.dropna()"
   ]
  },
  {
   "cell_type": "code",
   "execution_count": 20,
   "id": "animal-commitment",
   "metadata": {},
   "outputs": [
    {
     "data": {
      "text/html": [
       "<div>\n",
       "<style scoped>\n",
       "    .dataframe tbody tr th:only-of-type {\n",
       "        vertical-align: middle;\n",
       "    }\n",
       "\n",
       "    .dataframe tbody tr th {\n",
       "        vertical-align: top;\n",
       "    }\n",
       "\n",
       "    .dataframe thead th {\n",
       "        text-align: right;\n",
       "    }\n",
       "</style>\n",
       "<table border=\"1\" class=\"dataframe\">\n",
       "  <thead>\n",
       "    <tr style=\"text-align: right;\">\n",
       "      <th></th>\n",
       "      <th>etiqueta</th>\n",
       "      <th>etiqueta_binaria</th>\n",
       "      <th>Close</th>\n",
       "      <th>moving_avg</th>\n",
       "      <th>uma10</th>\n",
       "    </tr>\n",
       "    <tr>\n",
       "      <th>Date</th>\n",
       "      <th></th>\n",
       "      <th></th>\n",
       "      <th></th>\n",
       "      <th></th>\n",
       "      <th></th>\n",
       "    </tr>\n",
       "  </thead>\n",
       "  <tbody>\n",
       "    <tr>\n",
       "      <th>2021-01-19</th>\n",
       "      <td>1</td>\n",
       "      <td>1</td>\n",
       "      <td>127.830002</td>\n",
       "      <td>129.313000</td>\n",
       "      <td>128.962546</td>\n",
       "    </tr>\n",
       "    <tr>\n",
       "      <th>2021-01-20</th>\n",
       "      <td>1</td>\n",
       "      <td>1</td>\n",
       "      <td>132.029999</td>\n",
       "      <td>129.415000</td>\n",
       "      <td>129.456546</td>\n",
       "    </tr>\n",
       "    <tr>\n",
       "      <th>2021-01-21</th>\n",
       "      <td>1</td>\n",
       "      <td>1</td>\n",
       "      <td>136.869995</td>\n",
       "      <td>130.442000</td>\n",
       "      <td>130.812000</td>\n",
       "    </tr>\n",
       "    <tr>\n",
       "      <th>2021-01-22</th>\n",
       "      <td>1</td>\n",
       "      <td>1</td>\n",
       "      <td>139.070007</td>\n",
       "      <td>131.257001</td>\n",
       "      <td>132.380728</td>\n",
       "    </tr>\n",
       "    <tr>\n",
       "      <th>2021-01-25</th>\n",
       "      <td>1</td>\n",
       "      <td>1</td>\n",
       "      <td>142.919998</td>\n",
       "      <td>132.344000</td>\n",
       "      <td>134.501273</td>\n",
       "    </tr>\n",
       "    <tr>\n",
       "      <th>...</th>\n",
       "      <td>...</td>\n",
       "      <td>...</td>\n",
       "      <td>...</td>\n",
       "      <td>...</td>\n",
       "      <td>...</td>\n",
       "    </tr>\n",
       "    <tr>\n",
       "      <th>2022-04-25</th>\n",
       "      <td>1</td>\n",
       "      <td>1</td>\n",
       "      <td>162.880005</td>\n",
       "      <td>165.988998</td>\n",
       "      <td>165.273816</td>\n",
       "    </tr>\n",
       "    <tr>\n",
       "      <th>2022-04-26</th>\n",
       "      <td>-1</td>\n",
       "      <td>0</td>\n",
       "      <td>156.800003</td>\n",
       "      <td>165.093999</td>\n",
       "      <td>163.603090</td>\n",
       "    </tr>\n",
       "    <tr>\n",
       "      <th>2022-04-27</th>\n",
       "      <td>-1</td>\n",
       "      <td>0</td>\n",
       "      <td>156.570007</td>\n",
       "      <td>163.984999</td>\n",
       "      <td>162.053273</td>\n",
       "    </tr>\n",
       "    <tr>\n",
       "      <th>2022-04-28</th>\n",
       "      <td>1</td>\n",
       "      <td>1</td>\n",
       "      <td>163.639999</td>\n",
       "      <td>163.309000</td>\n",
       "      <td>161.990546</td>\n",
       "    </tr>\n",
       "    <tr>\n",
       "      <th>2022-04-29</th>\n",
       "      <td>-1</td>\n",
       "      <td>0</td>\n",
       "      <td>157.649994</td>\n",
       "      <td>162.545000</td>\n",
       "      <td>160.961636</td>\n",
       "    </tr>\n",
       "  </tbody>\n",
       "</table>\n",
       "<p>324 rows × 5 columns</p>\n",
       "</div>"
      ],
      "text/plain": [
       "            etiqueta  etiqueta_binaria       Close  moving_avg       uma10\n",
       "Date                                                                      \n",
       "2021-01-19         1                 1  127.830002  129.313000  128.962546\n",
       "2021-01-20         1                 1  132.029999  129.415000  129.456546\n",
       "2021-01-21         1                 1  136.869995  130.442000  130.812000\n",
       "2021-01-22         1                 1  139.070007  131.257001  132.380728\n",
       "2021-01-25         1                 1  142.919998  132.344000  134.501273\n",
       "...              ...               ...         ...         ...         ...\n",
       "2022-04-25         1                 1  162.880005  165.988998  165.273816\n",
       "2022-04-26        -1                 0  156.800003  165.093999  163.603090\n",
       "2022-04-27        -1                 0  156.570007  163.984999  162.053273\n",
       "2022-04-28         1                 1  163.639999  163.309000  161.990546\n",
       "2022-04-29        -1                 0  157.649994  162.545000  160.961636\n",
       "\n",
       "[324 rows x 5 columns]"
      ]
     },
     "execution_count": 20,
     "metadata": {},
     "output_type": "execute_result"
    }
   ],
   "source": [
    "df_ml"
   ]
  },
  {
   "cell_type": "code",
   "execution_count": 21,
   "id": "critical-outline",
   "metadata": {},
   "outputs": [
    {
     "data": {
      "text/plain": [
       "array([[14, 28],\n",
       "       [ 8, 31]])"
      ]
     },
     "execution_count": 21,
     "metadata": {},
     "output_type": "execute_result"
    }
   ],
   "source": [
    "# Regresión logística\n",
    "\n",
    "feature_cols = ['moving_avg', 'uma10']\n",
    "X = df_ml[feature_cols] # Variables explicativas\n",
    "y = df_ml['etiqueta_binaria'] # Variable respuesta\n",
    "\n",
    "X_train,X_test,y_train,y_test = train_test_split(X,y,test_size=0.25,random_state=0)\n",
    "\n",
    "logreg = LogisticRegression()\n",
    "logreg.fit(X_train,y_train)\n",
    "y_pred=logreg.predict(X_test)\n",
    "\n",
    "cnf_matrix = metrics.confusion_matrix(y_test, y_pred)\n",
    "cnf_matrix"
   ]
  },
  {
   "cell_type": "code",
   "execution_count": 22,
   "id": "determined-dominant",
   "metadata": {},
   "outputs": [
    {
     "data": {
      "image/png": "[encoded data removed]",
      "text/plain": [
       "<Figure size 432x288 with 2 Axes>"
      ]
     },
     "metadata": {
      "needs_background": "light"
     },
     "output_type": "display_data"
    }
   ],
   "source": [
    "class_names=[0,1] # name  of classes\n",
    "fig, ax = plt.subplots()\n",
    "tick_marks = np.arange(len(class_names))\n",
    "plt.xticks(tick_marks, class_names)\n",
    "plt.yticks(tick_marks, class_names)\n",
    "# create heatmap\n",
    "sns.heatmap(pd.DataFrame(cnf_matrix), annot=True, cmap=\"YlGnBu\" ,fmt='g')\n",
    "ax.xaxis.set_label_position(\"top\")\n",
    "plt.tight_layout()\n",
    "plt.title('Matriz de confusión', y=1.1)\n",
    "plt.ylabel('Etiqueta real')\n",
    "plt.xlabel('Etiqueta predecida');"
   ]
  },
  {
   "cell_type": "code",
   "execution_count": 23,
   "id": "numerical-paragraph",
   "metadata": {},
   "outputs": [
    {
     "name": "stdout",
     "output_type": "stream",
     "text": [
      "Accuracy: 0.5555555555555556\n",
      "Precisión: 0.5254237288135594\n",
      "Recall: 0.7948717948717948\n"
     ]
    }
   ],
   "source": [
    "print(\"Accuracy:\",metrics.accuracy_score(y_test, y_pred))\n",
    "print(\"Precisión:\",metrics.precision_score(y_test, y_pred))\n",
    "print(\"Recall:\",metrics.recall_score(y_test, y_pred))"
   ]
  },
  {
   "cell_type": "code",
   "execution_count": 24,
   "id": "future-undergraduate",
   "metadata": {},
   "outputs": [
    {
     "data": {
      "text/plain": [
       "array([[13, 29],\n",
       "       [ 6, 33]])"
      ]
     },
     "execution_count": 24,
     "metadata": {},
     "output_type": "execute_result"
    }
   ],
   "source": [
    "## Máquina de soporte vectorial\n",
    "\n",
    "feature_cols = ['moving_avg', 'uma10']\n",
    "X = df_ml[feature_cols] # Variables explicativas\n",
    "y = df_ml['etiqueta'] # Variable respuesta -1/1\n",
    "\n",
    "X_train,X_test,y_train,y_test = train_test_split(X,y,test_size=0.25,random_state=0)\n",
    "\n",
    "clf = svm.SVC(kernel='linear') # Kernel lineal\n",
    "#### <--- Nos falta hacer la selección del kernel y los hiperparámetros\n",
    "clf.fit(X_train, y_train)\n",
    "y_pred = clf.predict(X_test)\n",
    "\n",
    "cnf_matrix = metrics.confusion_matrix(y_test, y_pred)\n",
    "cnf_matrix"
   ]
  },
  {
   "cell_type": "code",
   "execution_count": 25,
   "id": "oriental-copper",
   "metadata": {},
   "outputs": [
    {
     "name": "stdout",
     "output_type": "stream",
     "text": [
      "Accuracy: 0.5679012345679012\n",
      "Precision: 0.532258064516129\n",
      "Recall: 0.8461538461538461\n"
     ]
    }
   ],
   "source": [
    "print(\"Accuracy:\",metrics.accuracy_score(y_test, y_pred))\n",
    "print(\"Precision:\",metrics.precision_score(y_test, y_pred))\n",
    "print(\"Recall:\",metrics.recall_score(y_test, y_pred))"
   ]
  },
  {
   "cell_type": "code",
   "execution_count": null,
   "id": "dietary-following",
   "metadata": {},
   "outputs": [],
   "source": []
  },
  {
   "cell_type": "code",
   "execution_count": 26,
   "id": "powered-emergency",
   "metadata": {},
   "outputs": [
    {
     "data": {
      "text/plain": [
       "array([[15, 27],\n",
       "       [10, 29]])"
      ]
     },
     "execution_count": 26,
     "metadata": {},
     "output_type": "execute_result"
    }
   ],
   "source": [
    "# Árbol de clasificación\n",
    "\n",
    "clf_arbol = DecisionTreeClassifier()\n",
    "## <--- Falta hacer la calibración de hiperparams: criterion=\"entropy\", max_depth=3\n",
    "clf_arbol = clf_arbol.fit(X_train,y_train)\n",
    "y_pred = clf_arbol.predict(X_test)\n",
    "\n",
    "cnf_matrix = metrics.confusion_matrix(y_test, y_pred)\n",
    "cnf_matrix"
   ]
  },
  {
   "cell_type": "code",
   "execution_count": 27,
   "id": "binary-commons",
   "metadata": {},
   "outputs": [
    {
     "name": "stdout",
     "output_type": "stream",
     "text": [
      "Accuracy: 0.5432098765432098\n",
      "Precision: 0.5178571428571429\n",
      "Recall: 0.7435897435897436\n"
     ]
    }
   ],
   "source": [
    "print(\"Accuracy:\",metrics.accuracy_score(y_test, y_pred))\n",
    "print(\"Precision:\",metrics.precision_score(y_test, y_pred))\n",
    "print(\"Recall:\",metrics.recall_score(y_test, y_pred))"
   ]
  },
  {
   "cell_type": "code",
   "execution_count": 28,
   "id": "adjustable-patch",
   "metadata": {},
   "outputs": [
    {
     "data": {
      "text/plain": [
       "array([[14, 28],\n",
       "       [16, 23]])"
      ]
     },
     "execution_count": 28,
     "metadata": {},
     "output_type": "execute_result"
    }
   ],
   "source": [
    "# Random Forest\n",
    "\n",
    "clf_rf = RandomForestClassifier(n_estimators=100)\n",
    "clf_rf = clf_rf.fit(X_train,y_train)\n",
    "y_pred = clf_rf.predict(X_test)\n",
    "\n",
    "cnf_matrix = metrics.confusion_matrix(y_test, y_pred)\n",
    "cnf_matrix"
   ]
  },
  {
   "cell_type": "code",
   "execution_count": 29,
   "id": "nasty-round",
   "metadata": {},
   "outputs": [
    {
     "name": "stdout",
     "output_type": "stream",
     "text": [
      "Accuracy: 0.4567901234567901\n",
      "Precision: 0.45098039215686275\n",
      "Recall: 0.5897435897435898\n"
     ]
    }
   ],
   "source": [
    "print(\"Accuracy:\",metrics.accuracy_score(y_test, y_pred))\n",
    "print(\"Precision:\",metrics.precision_score(y_test, y_pred))\n",
    "print(\"Recall:\",metrics.recall_score(y_test, y_pred))"
   ]
  },
  {
   "cell_type": "code",
   "execution_count": 30,
   "id": "ordered-glance",
   "metadata": {},
   "outputs": [
    {
     "data": {
      "text/plain": [
       "array([[18, 24],\n",
       "       [14, 25]])"
      ]
     },
     "execution_count": 30,
     "metadata": {},
     "output_type": "execute_result"
    }
   ],
   "source": [
    "# Vecinos más cercanos\n",
    "\n",
    "clf_kn = KNeighborsClassifier(n_neighbors=3)\n",
    "clf_kn = clf_kn.fit(X_train,y_train)\n",
    "y_pred = clf_kn.predict(X_test)\n",
    "\n",
    "cnf_matrix = metrics.confusion_matrix(y_test, y_pred)\n",
    "cnf_matrix"
   ]
  },
  {
   "cell_type": "code",
   "execution_count": 31,
   "id": "limited-implement",
   "metadata": {},
   "outputs": [
    {
     "name": "stdout",
     "output_type": "stream",
     "text": [
      "Accuracy: 0.5308641975308642\n",
      "Precision: 0.5102040816326531\n",
      "Recall: 0.6410256410256411\n"
     ]
    }
   ],
   "source": [
    "print(\"Accuracy:\",metrics.accuracy_score(y_test, y_pred))\n",
    "print(\"Precision:\",metrics.precision_score(y_test, y_pred))\n",
    "print(\"Recall:\",metrics.recall_score(y_test, y_pred))"
   ]
  },
  {
   "cell_type": "code",
   "execution_count": 32,
   "id": "economic-embassy",
   "metadata": {},
   "outputs": [
    {
     "data": {
      "text/plain": [
       "array([[12, 30],\n",
       "       [ 7, 32]])"
      ]
     },
     "execution_count": 32,
     "metadata": {},
     "output_type": "execute_result"
    }
   ],
   "source": [
    "# AdaBoost\n",
    "\n",
    "clf_ab = AdaBoostClassifier(n_estimators=50,\n",
    "                         learning_rate=1)\n",
    "clf_ab = clf_ab.fit(X_train,y_train)\n",
    "y_pred = clf_ab.predict(X_test)\n",
    "\n",
    "cnf_matrix = metrics.confusion_matrix(y_test, y_pred)\n",
    "cnf_matrix"
   ]
  },
  {
   "cell_type": "code",
   "execution_count": 33,
   "id": "parliamentary-louis",
   "metadata": {},
   "outputs": [
    {
     "name": "stdout",
     "output_type": "stream",
     "text": [
      "Accuracy: 0.5432098765432098\n",
      "Precision: 0.5161290322580645\n",
      "Recall: 0.8205128205128205\n"
     ]
    }
   ],
   "source": [
    "print(\"Accuracy:\",metrics.accuracy_score(y_test, y_pred))\n",
    "print(\"Precision:\",metrics.precision_score(y_test, y_pred))\n",
    "print(\"Recall:\",metrics.recall_score(y_test, y_pred))"
   ]
  },
  {
   "cell_type": "code",
   "execution_count": null,
   "id": "informational-cargo",
   "metadata": {},
   "outputs": [],
   "source": []
  }
 ],
 "metadata": {
  "kernelspec": {
   "display_name": "Python 3",
   "language": "python",
   "name": "python3"
  },
  "language_info": {
   "codemirror_mode": {
    "name": "ipython",
    "version": 3
   },
   "file_extension": ".py",
   "mimetype": "text/x-python",
   "name": "python",
   "nbconvert_exporter": "python",
   "pygments_lexer": "ipython3",
   "version": "3.9.1"
  }
 },
 "nbformat": 4,
 "nbformat_minor": 5
}
