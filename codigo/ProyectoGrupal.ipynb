{
 "cells": [
  {
   "cell_type": "markdown",
   "id": "determined-class",
   "metadata": {},
   "source": [
    "# Finanzas Computacionales\n",
    "## Proyecto grupal\n",
    "### Profesor: Dr. Luis Vicente Montiel Cendejas\n",
    "### Estudiante: Marina, Aldair y Eduardo\n",
    "### Fecha de entrega: 16 de Mayo de 2022"
   ]
  },
  {
   "cell_type": "markdown",
   "id": "aerial-window",
   "metadata": {},
   "source": [
    "# Resumen"
   ]
  },
  {
   "cell_type": "markdown",
   "id": "supreme-comment",
   "metadata": {},
   "source": [
    "Uno de los objetivos de este proyecto es ..."
   ]
  },
  {
   "cell_type": "code",
   "execution_count": 84,
   "id": "reverse-advantage",
   "metadata": {},
   "outputs": [],
   "source": [
    "import numpy as np\n",
    "import pandas as pd # librería para manejo de dataframes\n",
    "import matplotlib.pyplot as plt\n",
    "import yfinance as yf # librería para descarga de históricos de Yahoo Finance\n",
    "import math\n",
    "\n",
    "from sklearn.preprocessing import PolynomialFeatures\n",
    "from sklearn.linear_model import LinearRegression"
   ]
  },
  {
   "cell_type": "code",
   "execution_count": 85,
   "id": "actual-singapore",
   "metadata": {},
   "outputs": [],
   "source": [
    "ticker = 'AAPL'\n",
    "fecha_inicio = '2021-01-01'\n",
    "fecha_fin = '2022-03-31'"
   ]
  },
  {
   "cell_type": "code",
   "execution_count": 88,
   "id": "figured-bishop",
   "metadata": {},
   "outputs": [],
   "source": [
    "def calcula_media(ticker, fecha_inicio, fecha_fin):\n",
    "    df_hist = yf.download(ticker,\n",
    "                          start = fecha_inicio,\n",
    "                          end = fecha_fin,\n",
    "                          progress=False)\n",
    "    # Cálculo de rendimientos\n",
    "    rendims = (df_hist.iloc[1:]['Close'] - df_hist.shift(1).iloc[1:]['Close'])/df_hist.shift(1).iloc[1:]['Close']\n",
    "    # mu\n",
    "    mu = np.mean(rendims) #media aritmética\n",
    "    return(mu)"
   ]
  },
  {
   "cell_type": "code",
   "execution_count": 89,
   "id": "complex-broadway",
   "metadata": {},
   "outputs": [
    {
     "data": {
      "text/plain": [
       "0.001152774861035118"
      ]
     },
     "execution_count": 89,
     "metadata": {},
     "output_type": "execute_result"
    }
   ],
   "source": [
    "calcula_media(ticker, fecha_inicio, fecha_fin)"
   ]
  }
 ],
 "metadata": {
  "kernelspec": {
   "display_name": "Python 3",
   "language": "python",
   "name": "python3"
  },
  "language_info": {
   "codemirror_mode": {
    "name": "ipython",
    "version": 3
   },
   "file_extension": ".py",
   "mimetype": "text/x-python",
   "name": "python",
   "nbconvert_exporter": "python",
   "pygments_lexer": "ipython3",
   "version": "3.9.1"
  }
 },
 "nbformat": 4,
 "nbformat_minor": 5
}
